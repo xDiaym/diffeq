{
 "cells": [
  {
   "cell_type": "code",
   "execution_count": 1,
   "metadata": {},
   "outputs": [],
   "source": [
    "from typing import Callable\n",
    "\n",
    "import numpy as np\n",
    "import matplotlib.pyplot as plt"
   ]
  },
  {
   "cell_type": "code",
   "execution_count": 2,
   "metadata": {},
   "outputs": [],
   "source": [
    "F = Callable[[float, float], float]  # Функция двух переменных F(x, y)\n",
    "Array = np.ndarray[np.float32]"
   ]
  },
  {
   "cell_type": "code",
   "execution_count": 3,
   "metadata": {},
   "outputs": [],
   "source": [
    "def Euler(f: F, x0: float, y0: float, n: int = 1000, dx: float = 1e-2) -> Array:\n",
    "    \"\"\"\n",
    "    Метод Эйлера.\n",
    "    Порядок точности O(dx)\n",
    "    \"\"\"\n",
    "    points = [(x0, y0)]\n",
    "    x, y = x0, y0\n",
    "    for _ in range(n):\n",
    "        y += dx * f(x, y)\n",
    "        x += dx\n",
    "        points.append((x, y))\n",
    "    return np.array(points)"
   ]
  },
  {
   "cell_type": "code",
   "execution_count": 4,
   "metadata": {},
   "outputs": [],
   "source": [
    "def RungeKuttas2(f: F, x0: float, y0: float, n: int = 1000, dx: float = 1e-2) -> Array:\n",
    "    \"\"\"\n",
    "    Метод Рунге-Кутты 2го порядка точности(метод Эйлера с пересчетом).\n",
    "    Порядок точности O(dx^2)\n",
    "    \"\"\"\n",
    "    points = [(x0, y0)]\n",
    "    x, y = x0, y0\n",
    "    for _ in range(n):\n",
    "        y_hat = y + dx * f(x, y)\n",
    "        y += dx * (f(x, y) + f(x + dx, y_hat))/2\n",
    "        x += dx\n",
    "        points.append((x, y))\n",
    "    return np.array(points)"
   ]
  },
  {
   "cell_type": "code",
   "execution_count": 5,
   "metadata": {},
   "outputs": [],
   "source": [
    "def RungeKuttas4(f: F, x0: float, y0: float, n: int = 1000, dx: float = 1e-2) -> Array:\n",
    "    \"\"\"\n",
    "    Метод Рунге-Кутты 4го порядка точности.\n",
    "    Порядок точности: O(dx^4)\n",
    "    \"\"\"\n",
    "    points = [(x0, y0)]\n",
    "    x, y = x0, y0\n",
    "    for _ in range(n):\n",
    "        k1 = f(x, y)\n",
    "        k2 = f(x + dx/2, y + k1*dx/2)\n",
    "        k3 = f(x + dx/2, y + k2*dx/2)\n",
    "        k4 = f(x + dx, y + k3*dx)\n",
    "        y += dx * (k1 + 2 * k2 + 2 * k3 + k4) / 6\n",
    "        x += dx\n",
    "        points.append((x, y))\n",
    "    return np.array(points)"
   ]
  },
  {
   "cell_type": "code",
   "execution_count": 15,
   "metadata": {},
   "outputs": [],
   "source": [
    "def AdamsBashfort(f: F, x0: float, y0: float, n: int = 1000, dx: float = 1e-2) -> Array:\n",
    "    \"\"\"\n",
    "    Метод Адамса-Башфорта.\n",
    "    Порядок точности: O(dx)\n",
    "    \"\"\"\n",
    "    points = [(x0, y0), (x0 + dx, y0 + dx*f(x0, y0))]  # Метод Эйлера\n",
    "    x, y = points[-1]\n",
    "    for _ in range(1, n):\n",
    "        x_i, y_i = points[-1]\n",
    "        y += (3 * f(x, y) - f(x_i, y_i)) * dx / 2 \n",
    "        x += dx\n",
    "        points.append((x, y))\n",
    "    return np.array(points)"
   ]
  },
  {
   "cell_type": "code",
   "execution_count": 12,
   "metadata": {},
   "outputs": [],
   "source": [
    "def AdamsMultons(f: F, x0: float, y0: float, coef: list[float], n: int = 1000, dx: float = 1e-2) -> Array:\n",
    "    \"\"\"\n",
    "    Метод Адамса-Мультона.\n",
    "    Порядок точности: O(dx^k), гдe k = len(coef)\n",
    "    \"\"\"\n",
    "    k = len(coef)\n",
    "    points = [(x0, y0)]\n",
    "    x, y = x0, y0\n",
    "    # Первые шаги считаем через RK4\n",
    "    for _ in range(k-1):\n",
    "        k1 = f(x, y)\n",
    "        k2 = f(x + dx/2, y + k1*dx/2)\n",
    "        k3 = f(x + dx/2, y + k2*dx/2)\n",
    "        k4 = f(x + dx, y + k3*dx)\n",
    "        y += dx * (k1 + 2 * k2 + 2 * k3 + k4) / 6\n",
    "        x += dx\n",
    "        points.append((x, y))\n",
    "\n",
    "    for _ in range(k, n):\n",
    "        y_hat = coef[0] * f(x, y)\n",
    "        for i in range(1, k):\n",
    "            x_i, y_i = points[-i]\n",
    "            y_hat += coef[i] * f(x_i, y_i)\n",
    "        y += y_hat * dx\n",
    "        x += dx\n",
    "        points.append((x, y))\n",
    "    return np.array(points)"
   ]
  },
  {
   "cell_type": "markdown",
   "metadata": {},
   "source": [
    "# Параметры решения"
   ]
  },
  {
   "cell_type": "markdown",
   "metadata": {},
   "source": [
    "**$f$ - исходная функция**  \n",
    "$y'=f(x,y)$\n"
   ]
  },
  {
   "cell_type": "code",
   "execution_count": 8,
   "metadata": {},
   "outputs": [],
   "source": [
    "def f(x: float, y: float):\n",
    "    return y * np.sin(x) ** 2"
   ]
  },
  {
   "cell_type": "code",
   "execution_count": 9,
   "metadata": {},
   "outputs": [],
   "source": [
    "dx = 1e-2\n",
    "x0, y0 = 0, 0.1\n",
    "x1 = 10\n",
    "n = abs(int((x1 - x0) / dx))\n"
   ]
  },
  {
   "cell_type": "markdown",
   "metadata": {},
   "source": [
    "## Построение графика"
   ]
  },
  {
   "cell_type": "code",
   "execution_count": 17,
   "metadata": {},
   "outputs": [
    {
     "data": {
      "image/png": "[encoded data removed]",
      "text/plain": [
       "<Figure size 640x480 with 1 Axes>"
      ]
     },
     "metadata": {},
     "output_type": "display_data"
    }
   ],
   "source": [
    "T = Euler(f, x0, y0, n, dx)\n",
    "plt.plot(T[:, 0], T[:, 1], label=\"Euler\")\n",
    "\n",
    "T = RungeKuttas2(f, x0, y0, n, dx)\n",
    "plt.plot(T[:, 0], T[:, 1], label=\"RK2\")\n",
    "\n",
    "T = RungeKuttas4(f, x0, y0, n, dx)\n",
    "plt.plot(T[:, 0], T[:, 1], label=\"RK4\")\n",
    "\n",
    "T = AdamsBashfort(f, x0, y0, n, dx)\n",
    "plt.plot(T[:, 0], T[:, 1], label=\"AB\")\n",
    "\n",
    "T = AdamsMultons(f, x0, y0, [1/2, 1/2], n, dx)\n",
    "plt.plot(T[:, 0], T[:, 1], label=\"AM\")\n",
    "\n",
    "plt.legend()\n",
    "plt.show()\n"
   ]
  },
  {
   "cell_type": "code",
   "execution_count": null,
   "metadata": {},
   "outputs": [],
   "source": []
  },
  {
   "cell_type": "code",
   "execution_count": null,
   "metadata": {},
   "outputs": [],
   "source": []
  }
 ],
 "metadata": {
  "kernelspec": {
   "display_name": "Python 3",
   "language": "python",
   "name": "python3"
  },
  "language_info": {
   "codemirror_mode": {
    "name": "ipython",
    "version": 3
   },
   "file_extension": ".py",
   "mimetype": "text/x-python",
   "name": "python",
   "nbconvert_exporter": "python",
   "pygments_lexer": "ipython3",
   "version": "3.10.6"
  }
 },
 "nbformat": 4,
 "nbformat_minor": 2
}
