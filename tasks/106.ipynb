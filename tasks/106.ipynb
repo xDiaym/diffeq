{
 "cells": [
  {
   "cell_type": "code",
   "execution_count": 20,
   "metadata": {},
   "outputs": [],
   "source": [
    "from typing import Type\n",
    "\n",
    "import numpy as np\n",
    "import matplotlib.pyplot as plt\n",
    "from scipy.integrate import odeint\n",
    "import sympy as sp\n",
    "from sympy import Function, dsolve, Eq\n",
    "from sympy.abc import x, z\n",
    "\n",
    "from methods import F, Euler"
   ]
  },
  {
   "cell_type": "markdown",
   "metadata": {},
   "source": [
    "# Параметры решения"
   ]
  },
  {
   "cell_type": "markdown",
   "metadata": {},
   "source": [
    "**$f$ - исходная функция**  \n",
    "$y'=f(x,y)$\n"
   ]
  },
  {
   "cell_type": "code",
   "execution_count": 21,
   "metadata": {},
   "outputs": [],
   "source": [
    "y = Function(\"y\")\n",
    "eq = Eq(y(x).diff(x), 2*x*y(x) / (x**2 + y(x) ** 2))"
   ]
  },
  {
   "cell_type": "code",
   "execution_count": 22,
   "metadata": {},
   "outputs": [],
   "source": [
    "dx = 1e-2\n",
    "x0, y0 = 1, 0.1\n",
    "x1 = 10\n",
    "n = abs(int((x1 - x0) / dx))\n"
   ]
  },
  {
   "cell_type": "markdown",
   "metadata": {},
   "source": [
    "## Построение графика"
   ]
  },
  {
   "cell_type": "code",
   "execution_count": 23,
   "metadata": {},
   "outputs": [],
   "source": [
    "def plot(exact: F, f: F, x0: float, y0: float, n: int = 1000, dx: float = 1e-2, *, method: Type[F] = Euler):\n",
    "    space = np.linspace(x0, round(dx * n), n)\n",
    "    Y = exact(space)\n",
    "    plt.plot(space, Y, label=\"Exact\")\n",
    "    T = method(f, x0, y0, n, dx)\n",
    "    plt.plot(T[:, 0], T[:, 1], label=method.__name__, linestyle='--')\n",
    "    T = odeint(f, y0, space, tfirst=True)\n",
    "    plt.plot(space, T, label=\"Scikit\", linestyle='--')\n",
    "    \n",
    "    plt.legend()\n",
    "    plt.show()"
   ]
  },
  {
   "cell_type": "code",
   "execution_count": 24,
   "metadata": {},
   "outputs": [],
   "source": [
    "solution = dsolve(eq, y(x), ics={y(x0): y0})\n",
    "exact = sp.lambdify(x, solution.rhs, \"numpy\")\n",
    "display(solution)\n",
    "\n",
    "f = sp.lambdify((x, z), eq.rhs.subs(y(x), z))\n",
    "plot(exact, f, x0, y0, n, dx, method=Euler)"
   ]
  }
 ],
 "metadata": {
  "kernelspec": {
   "display_name": "Python 3",
   "language": "python",
   "name": "python3"
  },
  "language_info": {
   "codemirror_mode": {
    "name": "ipython",
    "version": 3
   },
   "file_extension": ".py",
   "mimetype": "text/x-python",
   "name": "python",
   "nbconvert_exporter": "python",
   "pygments_lexer": "ipython3",
   "version": "3.10.6"
  }
 },
 "nbformat": 4,
 "nbformat_minor": 2
}
