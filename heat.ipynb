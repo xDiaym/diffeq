{
 "cells": [
  {
   "cell_type": "code",
   "execution_count": 3,
   "metadata": {},
   "outputs": [],
   "source": [
    "import warnings\n",
    "\n",
    "import numpy as np\n",
    "import matplotlib.pyplot as plt\n",
    "import matplotlib.animation as animation\n",
    "\n",
    "np.random.seed(42)"
   ]
  },
  {
   "cell_type": "markdown",
   "metadata": {},
   "source": [
    "# Macroparams"
   ]
  },
  {
   "cell_type": "code",
   "execution_count": 46,
   "metadata": {},
   "outputs": [],
   "source": [
    "material_name = 'Steel, 1% carbon'\n",
    "alpha = 1.172e-5  # thermal diffusivity [m^2/s], (steel, 1% carbon)\n",
    "Lx, Ly = 0.1, 0.1  # length [m]\n",
    "nx, ny = 40, 40  # points [unitless]\n",
    "dt = 0.1  # delta time [s]\n",
    "ft = 10  # simulation time [s]\n",
    "\n",
    "BC1, BC2 = 150, 0  # Bounday conditions (Dirichlet) [K], BC1 - temperature inside region, BC2 - temperature on edge"
   ]
  },
  {
   "cell_type": "markdown",
   "metadata": {},
   "source": [
    "# Convergence check"
   ]
  },
  {
   "cell_type": "code",
   "execution_count": 11,
   "metadata": {},
   "outputs": [],
   "source": [
    "dx, dy = Lx / nx, Ly / ny\n",
    "nt = int(ft / dt)\n",
    "\n",
    "Cx, Cy = alpha*dt/(dx**2), alpha*dt/(dy**2) #  Courant–Friedrichs–Lewi convergence condition\n",
    "if Cx > 0.5 or Cy > 0.5:\n",
    "    warnings.warn(\"CFL > 1, equations with this macroparams does not converges\")"
   ]
  },
  {
   "cell_type": "markdown",
   "metadata": {},
   "source": [
    "# Solution\n",
    "\n",
    "$\\frac{\\partial u}{\\partial t}(\\mathbb{x}, t) = \\alpha\\Delta u + f(\\mathbb{x}, t)$, where  \n",
    "$f(\\mathbb{x}, t)$ - external forces  \n",
    "$\\alpha$ - thermal diffusivity\n",
    "\n",
    "**Solve method**: RK4\n",
    "\n",
    "$u_t(\\mathbb{x}) = T$  \n",
    "$u_{t+1}(\\mathbb{x}) = T + (\\alpha \\operatorname{div} \\operatorname{grad} u(\\mathbb{x}) + F_t(\\mathbb{x}))dt$  \n",
    "$ \\frac{du}{dt} = \\Delta u + F(\\mathbb{x}) $  \n",
    "Assume $F(\\mathbb{x}) \\equiv 0$\n",
    " \n"
   ]
  },
  {
   "cell_type": "code",
   "execution_count": null,
   "metadata": {},
   "outputs": [],
   "source": []
  },
  {
   "cell_type": "code",
   "execution_count": 36,
   "metadata": {},
   "outputs": [],
   "source": [
    "F = np.zeros((nt, nx, ny))\n",
    "# for i in range(0, nx):\n",
    "#     for j in range(0, ny):\n",
    "#         F[0, i, j] = 300 if (i-nx/2)**2 + (j-ny/2)**2 < min(nx, ny)**2 / 16 else 0\n",
    "for i in range(0, nx):\n",
    "    for j in range(0, ny):\n",
    "        F[0, i, j] = 300 if nx/4 <= i <= 3*nx/4 and ny/4 <= j <= 3*ny/4 else 0\n",
    "for i in range(0, nx):\n",
    "    F[0, i, 0] = F[0, i, -1] = BC2\n",
    "for j in range(0, ny):\n",
    "    F[0, 0, j] = F[0, -1, j] = BC2"
   ]
  },
  {
   "cell_type": "markdown",
   "metadata": {},
   "source": [
    "Euler's method"
   ]
  },
  {
   "cell_type": "code",
   "execution_count": 42,
   "metadata": {},
   "outputs": [],
   "source": [
    "for t in range(nt-1):\n",
    "    for i in range(1, nx-1):\n",
    "        for j in range(1, ny-1):\n",
    "            d2udx2 = (F[t, i+1, j] - 2*F[t, i, j] + F[t, i-1, j]) / dx**2\n",
    "            d2udy2 = (F[t, i, j+1] - 2*F[t, i, j] + F[t, i, j-1]) / dy**2\n",
    "            F[t+1, i, j] = alpha*(d2udx2 + d2udy2) * dt + F[t, i, j]  # + external forces F(x, t)"
   ]
  },
  {
   "cell_type": "markdown",
   "metadata": {},
   "source": [
    "RK4"
   ]
  },
  {
   "cell_type": "code",
   "execution_count": 44,
   "metadata": {},
   "outputs": [],
   "source": [
    "def f(F, i, j, t):\n",
    "    d2udx2 = (F[i+1, j] - 2*F[i, j] + F[i-1, j]) / dx**2\n",
    "    d2udy2 = (F[i, j+1] - 2*F[i, j] + F[i, j-1]) / dy**2\n",
    "    return alpha*(d2udx2 + d2udy2)  # + external forces F(x, t)\n",
    "\n",
    "for t in range(nt-1):\n",
    "    for i in range(1, nx-1):\n",
    "        for j in range(1, ny-1):\n",
    "            Ft = F[t, :, :]\n",
    "            k1 = f(Ft, i, j, t)\n",
    "            k2 = f(Ft + k1*dt/2, i, j, t + dt/2)\n",
    "            k3 = f(Ft + k2*dt/2, i, j, t + dt/2)\n",
    "            k4 = f(Ft + k3*dt, i, j, t + dt)\n",
    "            F[t+1, i, j] = F[t, i, j] + dt * (k1 + 2 * k2 + 2 * k3 + k4) / 6"
   ]
  },
  {
   "cell_type": "code",
   "execution_count": 61,
   "metadata": {},
   "outputs": [
    {
     "data": {
      "image/png": "[encoded data removed]",
      "text/plain": [
       "<Figure size 640x480 with 2 Axes>"
      ]
     },
     "metadata": {},
     "output_type": "display_data"
    }
   ],
   "source": [
    "fig, ax1 = plt.subplots(1, 1)\n",
    "\n",
    "im = ax1.imshow(F[0, :, :], animated=True, extent=[0,Lx,0,Ly])\n",
    "ax1.set_title(material_name)\n",
    "ax1.set_xlabel('[$m$]')\n",
    "ax1.set_ylabel('[$m$]')\n",
    "\n",
    "\n",
    "cb = plt.colorbar(im)\n",
    "cb.ax.get_yaxis().labelpad = 15\n",
    "cb.ax.set_ylabel('Temperature [K]', rotation=270)\n",
    "\n",
    "i = 0\n",
    "def update(*args):\n",
    "    global i\n",
    "    if i < F.shape[0]:\n",
    "        i += 1\n",
    "    else:\n",
    "        i = 0\n",
    "    im.set_array(F[i, :, :])\n",
    "    return im,\n",
    "\n",
    "anim = animation.FuncAnimation(fig, update, frames=30, interval=1000/30)#,  blit=True)\n",
    "writervideo = animation.FFMpegWriter(fps=30)\n",
    "anim.save(\"anim.mp4\", writer=writervideo)\n",
    "plt.show()"
   ]
  }
 ],
 "metadata": {
  "kernelspec": {
   "display_name": "Python 3",
   "language": "python",
   "name": "python3"
  },
  "language_info": {
   "codemirror_mode": {
    "name": "ipython",
    "version": 3
   },
   "file_extension": ".py",
   "mimetype": "text/x-python",
   "name": "python",
   "nbconvert_exporter": "python",
   "pygments_lexer": "ipython3",
   "version": "3.12.3"
  }
 },
 "nbformat": 4,
 "nbformat_minor": 2
}
