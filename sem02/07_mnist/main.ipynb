{
 "cells": [
  {
   "cell_type": "code",
   "execution_count": 1,
   "metadata": {},
   "outputs": [],
   "source": [
    "import numpy as np\n",
    "import matplotlib.pyplot as plt\n",
    "from sklearn.metrics import accuracy_score, precision_score, f1_score\n",
    "from tqdm import tqdm\n",
    "\n",
    "import gzip\n",
    "import array\n",
    "from io import FileIO\n",
    "import struct\n",
    "from urllib.request import urlretrieve\n",
    "import pickle\n"
   ]
  },
  {
   "cell_type": "code",
   "execution_count": 2,
   "metadata": {},
   "outputs": [],
   "source": [
    "resources = [\n",
    "    'train-images-idx3-ubyte.gz',\n",
    "    'train-labels-idx1-ubyte.gz',\n",
    "    't10k-images-idx3-ubyte.gz',\n",
    "    't10k-labels-idx1-ubyte.gz'\n",
    "]"
   ]
  },
  {
   "cell_type": "code",
   "execution_count": null,
   "metadata": {},
   "outputs": [],
   "source": [
    "BASE_URL = \"https://ossci-datasets.s3.amazonaws.com/mnist/\"\n",
    "\n",
    "def download_mnist():\n",
    "    for file in resources:\n",
    "        urlretrieve(BASE_URL + file, file)\n",
    "    \n",
    "# download_mnist()"
   ]
  },
  {
   "cell_type": "code",
   "execution_count": 3,
   "metadata": {},
   "outputs": [],
   "source": [
    "def parse_file(fd: FileIO):\n",
    "    DATA_TYPES = {0x08: 'B', 0x09: 'b', 0x0b: 'h', 0x0c: 'i', 0x0d: 'f', 0x0e: 'd'}\n",
    "    header = fd.read(4)\n",
    "    _, data_type, num_dimensions = struct.unpack('>HBB', header)\n",
    "    \n",
    "    data_type = DATA_TYPES[data_type]\n",
    "    dimension_sizes = struct.unpack('>' + 'I' * num_dimensions, fd.read(4 * num_dimensions))\n",
    "    \n",
    "    data = array.array(data_type, fd.read())\n",
    "    data.byteswap()\n",
    "\n",
    "    return np.array(data).reshape(dimension_sizes)\n",
    "\n",
    "def load_file(fname):\n",
    "    with gzip.open(fname, \"rb\") as fp:\n",
    "        return parse_file(fp)\n",
    "\n",
    "def mnist():\n",
    "    return [load_file(fname) for fname in resources]"
   ]
  },
  {
   "cell_type": "code",
   "execution_count": 4,
   "metadata": {},
   "outputs": [
    {
     "data": {
      "image/png": "[encoded data removed]",
      "text/plain": [
       "<Figure size 450x600 with 9 Axes>"
      ]
     },
     "metadata": {},
     "output_type": "display_data"
    }
   ],
   "source": [
    "train_X, train_Y, test_X, test_Y = mnist()\n",
    "\n",
    "fig, axes = plt.subplots(3, 3, figsize=(4.5, 6))\n",
    "for i in range(9):\n",
    "    ax = axes[i // 3, i % 3]\n",
    "    ax.imshow(train_X[i], cmap='gray')\n",
    "    ax.axis('off')\n",
    "    ax.set_title(f'Label: {train_Y[i]}')\n",
    "plt.tight_layout()\n",
    "plt.show()"
   ]
  },
  {
   "cell_type": "code",
   "execution_count": 60,
   "metadata": {},
   "outputs": [],
   "source": [
    "np.random.seed(42)\n",
    "\n",
    "train_X = train_X.reshape((-1, 28*28)) / 255\n",
    "test_X = test_X.reshape((-1, 28*28)) / 255"
   ]
  },
  {
   "cell_type": "code",
   "execution_count": 61,
   "metadata": {},
   "outputs": [
    {
     "name": "stderr",
     "output_type": "stream",
     "text": [
      " 20%|██        | 1/5 [00:12<00:50, 12.65s/it]"
     ]
    },
    {
     "name": "stdout",
     "output_type": "stream",
     "text": [
      "Loss: 0.0989171980750298\n"
     ]
    },
    {
     "name": "stderr",
     "output_type": "stream",
     "text": [
      " 40%|████      | 2/5 [00:25<00:38, 12.72s/it]"
     ]
    },
    {
     "name": "stdout",
     "output_type": "stream",
     "text": [
      "Loss: 0.10234672284898463\n"
     ]
    },
    {
     "name": "stderr",
     "output_type": "stream",
     "text": [
      " 60%|██████    | 3/5 [00:38<00:25, 12.79s/it]"
     ]
    },
    {
     "name": "stdout",
     "output_type": "stream",
     "text": [
      "Loss: 0.089109928636723\n"
     ]
    },
    {
     "name": "stderr",
     "output_type": "stream",
     "text": [
      " 80%|████████  | 4/5 [00:50<00:12, 12.68s/it]"
     ]
    },
    {
     "name": "stdout",
     "output_type": "stream",
     "text": [
      "Loss: 0.09315923442291515\n"
     ]
    },
    {
     "name": "stderr",
     "output_type": "stream",
     "text": [
      "100%|██████████| 5/5 [01:03<00:00, 12.75s/it]"
     ]
    },
    {
     "name": "stdout",
     "output_type": "stream",
     "text": [
      "Loss: 0.09664045883518577\n"
     ]
    },
    {
     "name": "stderr",
     "output_type": "stream",
     "text": [
      "\n"
     ]
    }
   ],
   "source": [
    "N_in = train_X.shape[1]\n",
    "N_out = 10\n",
    "\n",
    "N1 = 128\n",
    "w1 = np.random.rand(N1, N_in) * 0.2 - 0.1\n",
    "w2 = np.random.rand(N_out, N1) * 0.2 - 0.1\n",
    "lmb = 0.01\n",
    "\n",
    "\n",
    "def f(x):\n",
    "    return 1/(1+np.exp(-x))\n",
    "\n",
    "def df(x):\n",
    "    return x*(1-x)\n",
    "\n",
    "def ohe(label, classes):\n",
    "    y = np.zeros(classes)\n",
    "    y[label] = 1\n",
    "    return y\n",
    "\n",
    "N = 5\n",
    "for i in tqdm(range(N)):\n",
    "    for _ in range(train_X.shape[0]):\n",
    "        idx = np.random.randint(train_X.shape[0])\n",
    "        x_in, label = train_X[idx], train_Y[idx]\n",
    "\n",
    "        A1 = x_in\n",
    "        Z2 = w1 @ A1\n",
    "        A2 = f(Z2)\n",
    "        Z3 = w2 @ A2\n",
    "        A3 = f(Z3)\n",
    "\n",
    "        # Loss (Mean Squared Error)\n",
    "        y_train = ohe(label, 10)\n",
    "        loss = np.mean((A3 - y_train) ** 2)\n",
    "\n",
    "        # Backward pass\n",
    "        delta3 = A3 - y_train\n",
    "        delta2 = delta3 @ w2 * df(A2)\n",
    "\n",
    "        w1 -= lmb * np.expand_dims(delta2, axis=1) @ np.expand_dims(A1, axis=1).T#(delta2.T @ A1)\n",
    "        w2 -= lmb * np.expand_dims(delta3, axis=1) @ np.expand_dims(A2, axis=1).T#(delta3.T @ A2)\n",
    "    print(f\"Loss: {loss}\")\n"
   ]
  },
  {
   "cell_type": "code",
   "execution_count": 19,
   "metadata": {},
   "outputs": [
    {
     "name": "stdout",
     "output_type": "stream",
     "text": [
      "0\n"
     ]
    },
    {
     "data": {
      "text/plain": [
       "(np.float64(-0.5), np.float64(27.5), np.float64(27.5), np.float64(-0.5))"
      ]
     },
     "execution_count": 19,
     "metadata": {},
     "output_type": "execute_result"
    },
    {
     "data": {
      "image/png": "[encoded data removed]",
      "text/plain": [
       "<Figure size 640x480 with 1 Axes>"
      ]
     },
     "metadata": {},
     "output_type": "display_data"
    }
   ],
   "source": [
    "x, y_hat = test_X[10], test_Y[10]\n",
    "y = f(w2 @ f(w1 @ x))\n",
    "print(np.argmax(y))\n",
    "plt.imshow(x.reshape((28, 28)), cmap='gray')\n",
    "plt.axis('off')\n"
   ]
  },
  {
   "cell_type": "code",
   "execution_count": 95,
   "metadata": {},
   "outputs": [],
   "source": [
    "import pickle\n",
    "\n",
    "with open(\"weights.bin\", \"wb\") as fp:\n",
    "    pickle.dump((w1, w2), fp)"
   ]
  },
  {
   "cell_type": "code",
   "execution_count": 9,
   "metadata": {},
   "outputs": [],
   "source": [
    "import pickle\n",
    "\n",
    "with open(\"weights.bin\", \"rb\") as fp:\n",
    "    w1, w2 = pickle.load(fp)"
   ]
  },
  {
   "cell_type": "code",
   "execution_count": 58,
   "metadata": {},
   "outputs": [
    {
     "name": "stdout",
     "output_type": "stream",
     "text": [
      "2\n",
      "2\n"
     ]
    }
   ],
   "source": [
    "def g(a, b, c):\n",
    "    return (a + b + c + abs(a - b) + abs(b - c) + abs(c - a)) // 3\n",
    "    #(a + b + c - abs(a - b) - abs(b - c) - abs(c - a)) // 3\n",
    "\n",
    "print(g(1, 1, 2))\n",
    "print(g(2, 2, 1))"
   ]
  }
 ],
 "metadata": {
  "kernelspec": {
   "display_name": ".venv",
   "language": "python",
   "name": "python3"
  },
  "language_info": {
   "codemirror_mode": {
    "name": "ipython",
    "version": 3
   },
   "file_extension": ".py",
   "mimetype": "text/x-python",
   "name": "python",
   "nbconvert_exporter": "python",
   "pygments_lexer": "ipython3",
   "version": "3.12.7"
  }
 },
 "nbformat": 4,
 "nbformat_minor": 2
}
