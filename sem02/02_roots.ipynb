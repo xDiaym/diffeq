{
 "cells": [
  {
   "cell_type": "code",
   "execution_count": 2,
   "metadata": {},
   "outputs": [],
   "source": [
    "from IPython.display import display, Math, Markdown\n",
    "import numpy as np\n",
    "import matplotlib.pyplot as plt"
   ]
  },
  {
   "cell_type": "code",
   "execution_count": 14,
   "metadata": {},
   "outputs": [],
   "source": [
    "EPS = 1e-3\n",
    "\n",
    "def f(x: float) -> float:\n",
    "    return EPS*x**3 + x**2 - 3*x + 2\n",
    "\n",
    "def df(x: float) -> float:\n",
    "    return 3*EPS*x**2 + 2*x - 3"
   ]
  },
  {
   "cell_type": "code",
   "execution_count": 4,
   "metadata": {},
   "outputs": [],
   "source": [
    "MAX_ITER = 10_000\n",
    "TOLERANCE = EPS"
   ]
  },
  {
   "cell_type": "markdown",
   "metadata": {},
   "source": [
    "## Newton"
   ]
  },
  {
   "cell_type": "code",
   "execution_count": 17,
   "metadata": {},
   "outputs": [
    {
     "data": {
      "text/latex": [
       "$\\displaystyle f(x) = 0$, where $x = 1.001003$"
      ],
      "text/plain": [
       "<IPython.core.display.Math object>"
      ]
     },
     "metadata": {},
     "output_type": "display_data"
    },
    {
     "data": {
      "text/latex": [
       "$\\displaystyle f(x) = 0$, where $x = 1.992032$"
      ],
      "text/plain": [
       "<IPython.core.display.Math object>"
      ]
     },
     "metadata": {},
     "output_type": "display_data"
    },
    {
     "data": {
      "text/latex": [
       "$\\displaystyle f(x) = 0$, where $x = -1002.993036$"
      ],
      "text/plain": [
       "<IPython.core.display.Math object>"
      ]
     },
     "metadata": {},
     "output_type": "display_data"
    }
   ],
   "source": [
    "def newton(f, df, *, x_0: float, tol: float = TOLERANCE, max_iter: int = MAX_ITER) -> tuple[float, float] | None:\n",
    "    x_old, x_new = float('inf'), x_0\n",
    "\n",
    "    for _ in range(max_iter):\n",
    "        if x_old - x_new < tol:\n",
    "            return x_new\n",
    "        x_old = x_new\n",
    "        x_new = x_new - f(x_new) / df(x_new)\n",
    "\n",
    "    return None\n",
    "\n",
    "N_x0 = newton(f, df, x_0=1)\n",
    "display(Math(f\"$f(x) = 0$, where $x = {N_x0:.6f}$\"))\n",
    "N_x1 = newton(f, df, x_0=2)\n",
    "display(Math(f\"$f(x) = 0$, where $x = {N_x1:.6f}$\"))\n",
    "N_x2 = newton(f, df, x_0=-1e3)\n",
    "display(Math(f\"$f(x) = 0$, where $x = {N_x2:.6f}$\"))"
   ]
  },
  {
   "cell_type": "markdown",
   "metadata": {},
   "source": [
    "## Bisect\n"
   ]
  },
  {
   "cell_type": "code",
   "execution_count": 28,
   "metadata": {},
   "outputs": [
    {
     "data": {
      "text/latex": [
       "$\\displaystyle f(x) = 0$, where $x = 1.001953$"
      ],
      "text/plain": [
       "<IPython.core.display.Math object>"
      ]
     },
     "metadata": {},
     "output_type": "display_data"
    },
    {
     "data": {
      "text/latex": [
       "$\\displaystyle f(x) = 0$, where $x = 1.992188$"
      ],
      "text/plain": [
       "<IPython.core.display.Math object>"
      ]
     },
     "metadata": {},
     "output_type": "display_data"
    },
    {
     "data": {
      "text/latex": [
       "$\\displaystyle f(x) = 0$, where $x = -1002.993035$"
      ],
      "text/plain": [
       "<IPython.core.display.Math object>"
      ]
     },
     "metadata": {},
     "output_type": "display_data"
    }
   ],
   "source": [
    "from math import copysign\n",
    "\n",
    "\n",
    "def bisect(f, *, x_0: float, x_1: float, tol: float = TOLERANCE, max_iters: int = MAX_ITER) -> float | None:\n",
    "    a, b = x_0, x_1\n",
    "\n",
    "    for _ in range(max_iters):\n",
    "        mid = (a + b) / 2\n",
    "        res = f(mid)\n",
    "        if abs(res) < tol:\n",
    "            return mid\n",
    "        \n",
    "        if copysign(1, res) == copysign(1, f(a)):\n",
    "            a = mid\n",
    "        else:\n",
    "            b = mid\n",
    "    \n",
    "    return None\n",
    "\n",
    "B_x0 = bisect(f, x_0=0, x_1=1.5)\n",
    "display(Math(f\"$f(x) = 0$, where $x = {B_x0:.6f}$\"))\n",
    "B_x1 = bisect(f, x_0=1.5, x_1=2)\n",
    "display(Math(f\"$f(x) = 0$, where $x = {B_x1:.6f}$\"))\n",
    "B_x2 = bisect(f, x_0=-1005, x_1=-1000)\n",
    "display(Math(f\"$f(x) = 0$, where $x = {B_x2:.6f}$\"))\n"
   ]
  },
  {
   "cell_type": "markdown",
   "metadata": {},
   "source": [
    "## Analytic"
   ]
  },
  {
   "cell_type": "code",
   "execution_count": 27,
   "metadata": {},
   "outputs": [
    {
     "data": {
      "text/latex": [
       "$\\displaystyle f(x) = 0$, where $x = 1.001000$"
      ],
      "text/plain": [
       "<IPython.core.display.Math object>"
      ]
     },
     "metadata": {},
     "output_type": "display_data"
    },
    {
     "data": {
      "text/latex": [
       "$\\displaystyle f(x) = 0$, where $x = 1.992000$"
      ],
      "text/plain": [
       "<IPython.core.display.Math object>"
      ]
     },
     "metadata": {},
     "output_type": "display_data"
    },
    {
     "data": {
      "text/latex": [
       "$\\displaystyle f(x) = 0$, where $x = -1003.000000$"
      ],
      "text/plain": [
       "<IPython.core.display.Math object>"
      ]
     },
     "metadata": {},
     "output_type": "display_data"
    }
   ],
   "source": [
    "A_x0 = 1 + EPS\n",
    "display(Math(f\"$f(x) = 0$, where $x = {A_x0:.6f}$\"))\n",
    "A_x1 = 2 - 8*EPS\n",
    "display(Math(f\"$f(x) = 0$, where $x = {A_x1:.6f}$\"))\n",
    "A_x2 = -1/EPS - 3\n",
    "display(Math(f\"$f(x) = 0$, where $x = {A_x2:.6f}$\"))"
   ]
  },
  {
   "cell_type": "markdown",
   "metadata": {},
   "source": [
    "# Plot"
   ]
  },
  {
   "cell_type": "code",
   "execution_count": 22,
   "metadata": {},
   "outputs": [
    {
     "data": {
      "image/png": "[encoded data removed]",
      "text/plain": [
       "<Figure size 640x480 with 1 Axes>"
      ]
     },
     "metadata": {},
     "output_type": "display_data"
    }
   ],
   "source": [
    "X = np.arange(-1100, 10, 1)\n",
    "plt.plot(X, f(X))\n",
    "plt.grid()"
   ]
  },
  {
   "cell_type": "code",
   "execution_count": 25,
   "metadata": {},
   "outputs": [
    {
     "data": {
      "image/png": "[encoded data removed]",
      "text/plain": [
       "<Figure size 640x480 with 1 Axes>"
      ]
     },
     "metadata": {},
     "output_type": "display_data"
    }
   ],
   "source": [
    "X = np.arange(0, 2.5, 0.1)\n",
    "plt.plot(X, f(X))\n",
    "plt.grid()"
   ]
  }
 ],
 "metadata": {
  "kernelspec": {
   "display_name": ".venv",
   "language": "python",
   "name": "python3"
  },
  "language_info": {
   "codemirror_mode": {
    "name": "ipython",
    "version": 3
   },
   "file_extension": ".py",
   "mimetype": "text/x-python",
   "name": "python",
   "nbconvert_exporter": "python",
   "pygments_lexer": "ipython3",
   "version": "3.13.1"
  }
 },
 "nbformat": 4,
 "nbformat_minor": 2
}
