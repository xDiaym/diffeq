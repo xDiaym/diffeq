{
 "cells": [
  {
   "cell_type": "code",
   "execution_count": 3,
   "metadata": {},
   "outputs": [],
   "source": [
    "from IPython.display import display, Math, Markdown\n",
    "import numpy as np\n",
    "import matplotlib.pyplot as plt"
   ]
  },
  {
   "cell_type": "code",
   "execution_count": 29,
   "metadata": {},
   "outputs": [],
   "source": [
    "def f(x: float) -> float:\n",
    "    return 1e-6*x**5 + x - 1\n",
    "\n",
    "def df(x: float) -> float:\n",
    "    return 5e-6*x**4 + 1"
   ]
  },
  {
   "cell_type": "code",
   "execution_count": 9,
   "metadata": {},
   "outputs": [],
   "source": [
    "MAX_ITER = 10_000\n",
    "TOLERANCE = 1e-6"
   ]
  },
  {
   "cell_type": "markdown",
   "metadata": {},
   "source": [
    "## Newton"
   ]
  },
  {
   "cell_type": "code",
   "execution_count": 37,
   "metadata": {},
   "outputs": [
    {
     "data": {
      "text/latex": [
       "$\\displaystyle f(x) = 0$, where $x = 0.999999$"
      ],
      "text/plain": [
       "<IPython.core.display.Math object>"
      ]
     },
     "metadata": {},
     "output_type": "display_data"
    }
   ],
   "source": [
    "def newton(f, df, *, x_0: float, tol: float = TOLERANCE, max_iter: int = MAX_ITER) -> tuple[float, float] | None:\n",
    "    x_old, x_new = float('inf'), x_0\n",
    "\n",
    "    for _ in range(max_iter):\n",
    "        if x_old - x_new < tol:\n",
    "            return x_new\n",
    "        x_old = x_new\n",
    "        x_new = x_new - f(x_new) / df(x_new)\n",
    "\n",
    "    return None\n",
    "\n",
    "x = newton(f, df, x_0=3)\n",
    "display(Math(f\"$f(x) = 0$, where $x = {x:.6f}$\"))"
   ]
  },
  {
   "cell_type": "markdown",
   "metadata": {},
   "source": [
    "## Bisect\n"
   ]
  },
  {
   "cell_type": "code",
   "execution_count": 36,
   "metadata": {},
   "outputs": [
    {
     "data": {
      "text/latex": [
       "$\\displaystyle f(x) = 0$, where $x = 0.999999$"
      ],
      "text/plain": [
       "<IPython.core.display.Math object>"
      ]
     },
     "metadata": {},
     "output_type": "display_data"
    }
   ],
   "source": [
    "from math import copysign\n",
    "\n",
    "\n",
    "def bisect(f, *, x_0: float, x_1: float, tol: float = TOLERANCE, max_iters: int = MAX_ITER) -> float | None:\n",
    "    a, b = x_0, x_1\n",
    "\n",
    "    for _ in range(max_iters):\n",
    "        mid = (a + b) / 2\n",
    "        res = f(mid)\n",
    "        if abs(res) < tol:\n",
    "            return mid\n",
    "        \n",
    "        if copysign(1, res) == copysign(1, f(a)):\n",
    "            a = mid\n",
    "        else:\n",
    "            b = mid\n",
    "    \n",
    "    return None\n",
    "\n",
    "display(Math(f\"$f(x) = 0$, where $x = {bisect(f, x_0=-10, x_1=10):.6f}$\"))\n"
   ]
  },
  {
   "cell_type": "code",
   "execution_count": 14,
   "metadata": {},
   "outputs": [
    {
     "data": {
      "text/plain": [
       "'def f(x: float, y: float) -> float:\\n    # Функция Розенброха\\n    return (1 - x)**2 + 100*(y - x**2) ** 2\\n\\ndef dfdx(x: float, y: float) -> float:\\n    return -2*(1 - x) + 2*100*(y - x**2) * (-2*x)\\n\\ndef dfdy(x: float, y: float) -> float:\\n    return 2 * 100 * (y - x**2)'"
      ]
     },
     "execution_count": 14,
     "metadata": {},
     "output_type": "execute_result"
    }
   ],
   "source": [
    "\"\"\"def f(x: float, y: float) -> float:\n",
    "    # Функция Розенброха\n",
    "    return (1 - x)**2 + 100*(y - x**2) ** 2\n",
    "\n",
    "def dfdx(x: float, y: float) -> float:\n",
    "    return -2*(1 - x) + 2*100*(y - x**2) * (-2*x)\n",
    "\n",
    "def dfdy(x: float, y: float) -> float:\n",
    "    return 2 * 100 * (y - x**2)\"\"\""
   ]
  }
 ],
 "metadata": {
  "kernelspec": {
   "display_name": ".venv",
   "language": "python",
   "name": "python3"
  },
  "language_info": {
   "codemirror_mode": {
    "name": "ipython",
    "version": 3
   },
   "file_extension": ".py",
   "mimetype": "text/x-python",
   "name": "python",
   "nbconvert_exporter": "python",
   "pygments_lexer": "ipython3",
   "version": "3.12.7"
  }
 },
 "nbformat": 4,
 "nbformat_minor": 2
}
