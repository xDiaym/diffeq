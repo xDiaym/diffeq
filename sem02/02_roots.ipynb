{
 "cells": [
  {
   "cell_type": "code",
   "execution_count": 5,
   "metadata": {},
   "outputs": [],
   "source": [
    "from IPython.display import display, Math, Markdown\n",
    "import numpy as np\n",
    "import matplotlib.pyplot as plt"
   ]
  },
  {
   "cell_type": "code",
   "execution_count": 13,
   "metadata": {},
   "outputs": [],
   "source": [
    "EPS = 1e-5\n",
    "\n",
    "def f(x: float) -> float:\n",
    "    return EPS * x**5 - x\n",
    "\n",
    "def f_prime(x: float) -> float:\n",
    "    return 5 * EPS * x**4 - 1"
   ]
  },
  {
   "cell_type": "markdown",
   "metadata": {},
   "source": [
    "## Newton"
   ]
  },
  {
   "cell_type": "code",
   "execution_count": 21,
   "metadata": {},
   "outputs": [
    {
     "data": {
      "text/latex": [
       "$\\displaystyle f(x) = 0$, where $x = 17.78279410038923$"
      ],
      "text/plain": [
       "<IPython.core.display.Math object>"
      ]
     },
     "metadata": {},
     "output_type": "display_data"
    }
   ],
   "source": [
    "def newton(f, f_prime, *, x_0: float = 0, tol: float = 1e-6, max_iter: int = int(1e5)) -> float | None:\n",
    "    x_old, x_new = float('inf'), x_0\n",
    "\n",
    "    for _ in range(max_iter):\n",
    "        if abs(x_old - x_new) < tol:\n",
    "            return x_new\n",
    "        x_old = x_new\n",
    "        x_new = x_new - f(x_new) / f_prime(x_new)\n",
    "\n",
    "    return None\n",
    "\n",
    "display(Math(f\"$f(x) = 0$, where $x = {newton(f, f_prime, x_0=20)}$\"))"
   ]
  },
  {
   "cell_type": "markdown",
   "metadata": {},
   "source": [
    "## Bisect\n"
   ]
  },
  {
   "cell_type": "code",
   "execution_count": 24,
   "metadata": {},
   "outputs": [
    {
     "data": {
      "text/latex": [
       "$\\displaystyle f(x) = 0$, where $x = 17.78279423713684$"
      ],
      "text/plain": [
       "<IPython.core.display.Math object>"
      ]
     },
     "metadata": {},
     "output_type": "display_data"
    }
   ],
   "source": [
    "from math import copysign\n",
    "\n",
    "\n",
    "def bisect(f, *, x_0: float, x_1: float, tol: float = 1e-6, max_iters: int = int(1e5)) -> float | None:\n",
    "    a, b = x_0, x_1\n",
    "\n",
    "    for _ in range(max_iters):\n",
    "        mid = (a + b) / 2\n",
    "        res = f(mid)\n",
    "        if abs(res) < tol:\n",
    "            return mid\n",
    "        \n",
    "        if copysign(1, res) == copysign(1, f(a)):\n",
    "            a = mid\n",
    "        else:\n",
    "            b = mid\n",
    "    \n",
    "    return None\n",
    "\n",
    "display(Math(f\"$f(x) = 0$, where $x = {bisect(f, x_0=10, x_1=20)}$\"))\n"
   ]
  }
 ],
 "metadata": {
  "kernelspec": {
   "display_name": ".venv",
   "language": "python",
   "name": "python3"
  },
  "language_info": {
   "codemirror_mode": {
    "name": "ipython",
    "version": 3
   },
   "file_extension": ".py",
   "mimetype": "text/x-python",
   "name": "python",
   "nbconvert_exporter": "python",
   "pygments_lexer": "ipython3",
   "version": "3.12.6"
  }
 },
 "nbformat": 4,
 "nbformat_minor": 2
}
