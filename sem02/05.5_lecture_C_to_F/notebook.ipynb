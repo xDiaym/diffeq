{
 "cells": [
  {
   "cell_type": "code",
   "execution_count": 4,
   "metadata": {},
   "outputs": [
    {
     "name": "stdout",
     "output_type": "stream",
     "text": [
      "[0.49376215 0.49531151 0.50244982 0.49856853]\n"
     ]
    }
   ],
   "source": [
    "import numpy as np\n",
    "\n",
    "x_in = np.array([4., 6., 4., 6.]).T\n",
    "goal = np.array([0.4, 0.6, 0.4, 0.5]).T\n",
    "N_in = len(x_in)\n",
    "N_out = len(goal)\n",
    "N1 = 4\n",
    "N2 = 4\n",
    "\n",
    "# np.random.random(42)\n",
    "w1 = np.random.rand(N1, N_in)\n",
    "w2 = np.random.rand(N2, N1)\n",
    "w3 = np.random.rand(N_out, N2)\n",
    "lmb = 0.1\n",
    "\n",
    "def f(x):\n",
    "    return 1 / (1 + np.exp(-x))\n",
    "\n",
    "def df(x):\n",
    "    return x * (1 - x)\n",
    "\n",
    "\n",
    "for i in range(10000):\n",
    "    y1 = np.dot(w1, x_in)\n",
    "    z1 = f(y1)\n",
    "    y2 = np.dot(w2, z1)\n",
    "    z2 = f(y2)\n",
    "    y3 = np.dot(w3, z2)\n",
    "    out = f(y3)\n",
    "\n",
    "    e = out - goal\n",
    "    delta3 = e * df(out)\n",
    "    w3 -= lmb * np.dot(delta3, z2.T)\n",
    "    delta2 = np.dot(w3.T, delta3) * df(z2)\n",
    "    w2 -= lmb * np.dot(delta2, z1.T)\n",
    "    delta1 = np.dot(w2.T, delta2) * df(z1)\n",
    "    w1 -= lmb * np.dot(delta1, x_in.T)\n",
    "\n",
    "print(out)"
   ]
  }
 ],
 "metadata": {
  "kernelspec": {
   "display_name": ".venv",
   "language": "python",
   "name": "python3"
  },
  "language_info": {
   "codemirror_mode": {
    "name": "ipython",
    "version": 3
   },
   "file_extension": ".py",
   "mimetype": "text/x-python",
   "name": "python",
   "nbconvert_exporter": "python",
   "pygments_lexer": "ipython3",
   "version": "3.12.6"
  }
 },
 "nbformat": 4,
 "nbformat_minor": 2
}
